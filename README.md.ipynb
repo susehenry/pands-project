{
 "cells": [
  {
   "cell_type": "markdown",
   "metadata": {},
   "source": [
    "# pands-project\n",
    "\n",
    "# Python –Using the Iris Dataset \n",
    "\n",
    "\n",
    "Python language is one of the most trending programming languages as it is more dynamic than others. Python is a simple high-level and an open-source language used for general-purpose programming. For this project, I will be using Python 3 and a selection of libraries for data analysis and manipulation of the iris dataset and demonstrating how to use it in practice.\n",
    "\n",
    "This article is written using Juypter notebooks,the notebook combines two components:\n",
    "\n",
    "A web application: a browser-based tool for interactive authoring of documents which combine explanatory text, mathematics, computations and their rich media output.\n",
    "\n",
    "Notebook documents: a representation of all content visible in the web application, including inputs and outputs of the computations, explanatory text, mathematics, images, and rich media representations of objects.  \n",
    "\n",
    "The Iris flower data set or Fishers data set is a multivariate data set introduced by the British statistician and biologist Ronald Fisher in his 1936 paper \"The use of multiple measurements in taxonomic problems\" as an example of linear discriminant analysis.This is perhaps the best known database to be found in the pattern recognition literature, and is frequently referenced to this day.\n",
    "The iris data set gives the measurements in centimetres of the variables sepal length and width and petal length and width, respectively, for 50 flowers from each of 3 species of iris. The species are Iris setosa, versicolor, and virginica. Based on the combination of these four features, Fisher developed a linear discriminant model to distinguish the species from each other.\n",
    "\n",
    "The dataset contains a set of 150 records under 5 attributes:\n",
    "1.\tsepal length in cm\n",
    "2.\tsepal width in cm\n",
    "3.\tpetal length in cm\n",
    "4.\tpetal width in cm\n",
    "5.\tspecies:\n",
    "o\tIris Versicolour\n",
    "o\tIris Setosa\n",
    "o\tIris Virginica\n",
    "\n",
    "Several versions of the dataset have been published, the dataset being used in this project has been downloaded from - UCI Machine Learning Repository. \n"
   ]
  },
  {
   "cell_type": "code",
   "execution_count": 3,
   "metadata": {},
   "outputs": [
    {
     "name": "stderr",
     "output_type": "stream",
     "text": [
      "UsageError: Line magic function `%autoreload` not found.\n"
     ]
    }
   ],
   "source": [
    "#configuration of jupyter notebooks\n",
    "%autoreload 2\n",
    "%matplotlib inline"
   ]
  },
  {
   "cell_type": "code",
   "execution_count": 4,
   "metadata": {},
   "outputs": [],
   "source": [
    "#Library Imports\n",
    "import pandas as pd\n",
    "import numpy as np\n",
    "import matplotlib.pyplot as pl\n",
    "import seaborn as sns\n"
   ]
  },
  {
   "cell_type": "markdown",
   "metadata": {},
   "source": [
    "# Pandas\n",
    "Pandas is a Python library used for working with data sets.\n",
    "It has functions for analyzing, cleaning, exploring, and manipulating data.\n",
    "The name \"Pandas\" has a reference to both \"Panel Data\", and \"Python Data Analysis\" and was created by Wes McKinney in 2008. \n",
    "Why Use Pandas?\n",
    "Pandas allows us to analyze big data and make conclusions based on statistical theories.\n",
    "Pandas can clean messy data sets, and make them readable and relevant.\n",
    "Relevant data is very important in data science.\n",
    "What Can Pandas Do?\n",
    "Pandas gives you answers about the data. Like:\n",
    "•\tIs there a correlation between two or more columns?\n",
    "•\tWhat is average value?\n",
    "•\tMax value?\n",
    "•\tMin value?\n",
    "Pandas are also able to delete rows that are not relevant, or contains wrong values, like empty or NULL values. This is called cleaning the data.\n",
    "\n",
    "# Numpy\n",
    "\n",
    "\n",
    "# Matplotlib\n",
    "Matplotlib is a low level graph plotting library in python that serves as a visualization utility.\n",
    "\n",
    "\n",
    "\n",
    "Matplotlib is open source and we can use it freely.\n",
    "\n",
    "Matplotlib is mostly written in python, a few segments are written in C, Objective-C and Javascript for Platform compatibility.\n",
    "\n",
    "# Seaborn\n",
    "Seaborn enables you to change the presentation of your figures by changing the style of elements like the background color, grids, and spines.Seaborn offers a lot of opportunities to customize your plots and have them show a distinct style. The color of your background, background style such as lines and ticks, and the size of your font all play a role in improving legibility and aesthetics.\n",
    "Seaborn also allows you to style Matplotlib plots\n",
    "\n",
    "\n",
    "\n",
    "\n"
   ]
  },
  {
   "cell_type": "code",
   "execution_count": 5,
   "metadata": {},
   "outputs": [],
   "source": [
    "#set plottimg styles of graphs using seaborn\n",
    "sns.set()"
   ]
  },
  {
   "cell_type": "markdown",
   "metadata": {},
   "source": [
    "# Dataset\n",
    "Import the Dataset _irdata_ using pandas, format dataset and test rows 0 - 9."
   ]
  },
  {
   "cell_type": "code",
   "execution_count": 10,
   "metadata": {},
   "outputs": [
    {
     "name": "stdout",
     "output_type": "stream",
     "text": [
      "   sepal_length  sepal_width  petal_length  petal_width      species\n",
      "0           4.9          3.0           1.4          0.2  Iris-setosa\n",
      "1           4.7          3.2           1.3          0.2  Iris-setosa\n",
      "2           4.6          3.1           1.5          0.2  Iris-setosa\n",
      "3           5.0          3.6           1.4          0.2  Iris-setosa\n",
      "4           5.4          3.9           1.7          0.4  Iris-setosa\n",
      "5           4.6          3.4           1.4          0.3  Iris-setosa\n",
      "6           5.0          3.4           1.5          0.2  Iris-setosa\n",
      "7           4.4          2.9           1.4          0.2  Iris-setosa\n",
      "8           4.9          3.1           1.5          0.1  Iris-setosa\n",
      "9           5.4          3.7           1.5          0.2  Iris-setosa\n"
     ]
    }
   ],
   "source": [
    "#using pandas to read .data files\n",
    "irdata =  pd.read_csv('iris.data', sep=\",\")\n",
    "\n",
    "# Labelling the variables in the dataset\n",
    "irdata.columns = ['sepal_length', 'sepal_width' , 'petal_length', 'petal_width', 'species']\n",
    "\n",
    "#testing the first 10 data sets print correctly\n",
    "print(irdata.head (10))"
   ]
  },
  {
   "cell_type": "markdown",
   "metadata": {},
   "source": [
    "# Summary of the variables in the dataset\n",
    "- \n"
   ]
  },
  {
   "cell_type": "markdown",
   "metadata": {},
   "source": [
    "Basic descriptive statistics - Create a Summary of statistics and save to text file, using functions from the pandas datframe."
   ]
  },
  {
   "cell_type": "markdown",
   "metadata": {},
   "source": [
    "info(): provides a concise summary of a dataframe. It shows you all the information you need to know about your dataframe like: record counts, column names, data types, index range , and memory usage."
   ]
  },
  {
   "cell_type": "code",
   "execution_count": 24,
   "metadata": {},
   "outputs": [
    {
     "name": "stdout",
     "output_type": "stream",
     "text": [
      "<class 'pandas.core.frame.DataFrame'>\n",
      "RangeIndex: 149 entries, 0 to 148\n",
      "Data columns (total 5 columns):\n",
      " #   Column        Non-Null Count  Dtype  \n",
      "---  ------        --------------  -----  \n",
      " 0   sepal_length  149 non-null    float64\n",
      " 1   sepal_width   149 non-null    float64\n",
      " 2   petal_length  149 non-null    float64\n",
      " 3   petal_width   149 non-null    float64\n",
      " 4   species       149 non-null    object \n",
      "dtypes: float64(4), object(1)\n",
      "memory usage: 5.9+ KB\n"
     ]
    }
   ],
   "source": [
    "irdata.info()"
   ]
  },
  {
   "cell_type": "markdown",
   "metadata": {},
   "source": [
    "Summary text file of dataset, using .describe() to get descriptive statistic about the data"
   ]
  },
  {
   "cell_type": "code",
   "execution_count": 14,
   "metadata": {},
   "outputs": [],
   "source": [
    "Summary = irdata.describe()\n",
    "\n",
    "# to save a text file, open() returns a file object, \n",
    "# it is most commonly used with two arguments: open(filename, mode).\n",
    "# 'w' is python write mode, this mode is used to edit and write new information\n",
    "with open('Summary.txt', 'w') as f: \n",
    "\n",
    "#f.write(string) writes the contents of string to the new file  \n",
    "    f.write(str(Summary))"
   ]
  },
  {
   "cell_type": "markdown",
   "metadata": {},
   "source": [
    "Summary text file of Sepal Width"
   ]
  },
  {
   "cell_type": "code",
   "execution_count": 22,
   "metadata": {},
   "outputs": [],
   "source": [
    "sepal_width = irdata ['sepal_width']\n",
    "with open ('sepal_width.txt', 'w') as f:\n",
    "    f.write(str(sepal_width.describe()))"
   ]
  },
  {
   "cell_type": "markdown",
   "metadata": {},
   "source": [
    "Summary text file of Sepal Length"
   ]
  },
  {
   "cell_type": "code",
   "execution_count": 23,
   "metadata": {},
   "outputs": [],
   "source": [
    "sepal_length = irdata ['sepal_length']\n",
    "with open ('sepal_length.txt', 'w') as f:\n",
    "    f.write(str(sepal_length.describe()))"
   ]
  },
  {
   "cell_type": "markdown",
   "metadata": {},
   "source": [
    "Summary text file of Petal Length"
   ]
  },
  {
   "cell_type": "code",
   "execution_count": 21,
   "metadata": {},
   "outputs": [],
   "source": [
    "petal_length = irdata ['petal_length']\n",
    "with open ('petal_length.txt', 'w') as f:\n",
    "    f.write(str(petal_length.describe()))\n"
   ]
  },
  {
   "cell_type": "markdown",
   "metadata": {},
   "source": [
    "Summary text file of Petal width"
   ]
  },
  {
   "cell_type": "code",
   "execution_count": 20,
   "metadata": {},
   "outputs": [],
   "source": [
    "petal_width = irdate ['petal_width']\n",
    "with open ('petal_width.txt', 'w') as f:\n",
    "    f.write(str(petal_width.describe()))"
   ]
  }
 ],
 "metadata": {
  "kernelspec": {
   "display_name": "Python 3.8.5 64-bit ('base': conda)",
   "name": "python385jvsc74a57bd0bcc66141a08faa045a8ae474ef8c79a15b807dc8555628bafcac26ff30b943f9"
  },
  "language_info": {
   "codemirror_mode": {
    "name": "ipython",
    "version": 3
   },
   "file_extension": ".py",
   "mimetype": "text/x-python",
   "name": "python",
   "nbconvert_exporter": "python",
   "pygments_lexer": "ipython3",
   "version": "3.8.5"
  }
 },
 "nbformat": 4,
 "nbformat_minor": 4
}
